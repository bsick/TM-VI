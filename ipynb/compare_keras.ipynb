{
 "cells": [
  {
   "cell_type": "code",
   "source": [
    "import tensorflow as tf\n",
    "import tensorflow_probability as tfp\n",
    "from src.vimlts import VIMLTS\n",
    "from matplotlib import pyplot as plt\n",
    "from tensorflow_probability import distributions as tfd\n",
    "import numpy as np\n",
    "import seaborn as sns\n",
    "from tensorflow.keras.layers import Layer\n",
    "from tensorflow.keras import activations, initializers\n",
    "from tensorflow.keras import backend as K\n",
    "from src import vimlts_utils_keras as VIMLTS_utils\n",
    "# from src.vimlts_keras import DenseVIMLTS\n",
    "\n",
    "%load_ext autoreload\n",
    "%autoreload 2\n",
    "sns.set(style=\"darkgrid\")"
   ],
   "metadata": {
    "collapsed": false,
    "pycharm": {
     "name": "#%%\n"
    }
   },
   "execution_count": 1,
   "outputs": []
  },
  {
   "cell_type": "markdown",
   "source": [
    "## Load single weight experiment"
   ],
   "metadata": {
    "collapsed": false,
    "pycharm": {
     "name": "#%% md\n"
    }
   }
  },
  {
   "cell_type": "code",
   "execution_count": 2,
   "outputs": [
    {
     "data": {
      "text/plain": "<Figure size 432x288 with 1 Axes>",
      "image/png": "[encoded data removed]"
     },
     "metadata": {},
     "output_type": "display_data"
    }
   ],
   "source": [
    "# Variational parameters init\n",
    "a_init=(0.2,)\n",
    "b_init=(0.3,)\n",
    "alpha_init = (np.log(np.exp(0.2) -1),)\n",
    "beta_init = (1.,)\n",
    "# List to save the variational distribution during training\n",
    "q_history=[]\n",
    "\n",
    "tf.random.set_seed(1)\n",
    "np.random.seed(1)\n",
    "delta_theta_init = (-5,1.,0.8,0.8,0.6,0.4,0.2,0.2,1.,.0)\n",
    "lambda_init=a_init+b_init+delta_theta_init+alpha_init+beta_init\n",
    "num_lambda=np.shape(lambda_init)[0]\n",
    "lambda_tunable = tf.Variable(lambda_init,dtype='float32')\n",
    "# Instance of a variational distribution as VIMLTS\n",
    "q_dist=VIMLTS(np.shape(delta_theta_init)[0])\n",
    "# Update the variational parameter to the variational distribution\n",
    "q_dist.update_lambda_param(lambda_tunable)\n",
    "# Save the distribution to the history\n",
    "q_history.append(q_dist.get_target_dist())\n",
    "for hist in q_history:\n",
    "    plt.plot(hist[1],hist[0])\n",
    "# plt.legend()\n",
    "plt.grid()\n",
    "plt.title(r'$q_{init}$')\n",
    "plt.ylabel(r'$q(w)$')\n",
    "plt.xlabel(r'$w$');"
   ],
   "metadata": {
    "collapsed": false,
    "pycharm": {
     "name": "#%%\n"
    }
   }
  },
  {
   "cell_type": "code",
   "execution_count": 3,
   "outputs": [
    {
     "name": "stdout",
     "output_type": "stream",
     "text": [
      "tf.Tensor([-1.7052318], shape=(1,), dtype=float32)\n",
      "WARNING:tensorflow:5 out of the last 5 calls to <function h_z2w at 0x7fa16e37d8b0> triggered tf.function retracing. Tracing is expensive and the excessive number of tracings could be due to (1) creating @tf.function repeatedly in a loop, (2) passing tensors with different shapes, (3) passing Python objects instead of tensors. For (1), please define your @tf.function outside of the loop. For (2), @tf.function has experimental_relax_shapes=True option that relaxes argument shapes that can avoid unnecessary retracing. For (3), please refer to https://www.tensorflow.org/guide/function#controlling_retracing and https://www.tensorflow.org/api_docs/python/tf/function for  more details.\n",
      "WARNING:tensorflow:6 out of the last 6 calls to <function h_z2w at 0x7fa16e37d8b0> triggered tf.function retracing. Tracing is expensive and the excessive number of tracings could be due to (1) creating @tf.function repeatedly in a loop, (2) passing tensors with different shapes, (3) passing Python objects instead of tensors. For (1), please define your @tf.function outside of the loop. For (2), @tf.function has experimental_relax_shapes=True option that relaxes argument shapes that can avoid unnecessary retracing. For (3), please refer to https://www.tensorflow.org/guide/function#controlling_retracing and https://www.tensorflow.org/api_docs/python/tf/function for  more details.\n",
      "tf.Tensor([-1.4543245], shape=(1,), dtype=float32)\n",
      "WARNING:tensorflow:7 out of the last 7 calls to <function h_z2w at 0x7fa16e37d8b0> triggered tf.function retracing. Tracing is expensive and the excessive number of tracings could be due to (1) creating @tf.function repeatedly in a loop, (2) passing tensors with different shapes, (3) passing Python objects instead of tensors. For (1), please define your @tf.function outside of the loop. For (2), @tf.function has experimental_relax_shapes=True option that relaxes argument shapes that can avoid unnecessary retracing. For (3), please refer to https://www.tensorflow.org/guide/function#controlling_retracing and https://www.tensorflow.org/api_docs/python/tf/function for  more details.\n",
      "WARNING:tensorflow:8 out of the last 8 calls to <function h_z2w at 0x7fa16e37d8b0> triggered tf.function retracing. Tracing is expensive and the excessive number of tracings could be due to (1) creating @tf.function repeatedly in a loop, (2) passing tensors with different shapes, (3) passing Python objects instead of tensors. For (1), please define your @tf.function outside of the loop. For (2), @tf.function has experimental_relax_shapes=True option that relaxes argument shapes that can avoid unnecessary retracing. For (3), please refer to https://www.tensorflow.org/guide/function#controlling_retracing and https://www.tensorflow.org/api_docs/python/tf/function for  more details.\n",
      "tf.Tensor([-1.11914], shape=(1,), dtype=float32)\n",
      "WARNING:tensorflow:9 out of the last 9 calls to <function h_z2w at 0x7fa16e37d8b0> triggered tf.function retracing. Tracing is expensive and the excessive number of tracings could be due to (1) creating @tf.function repeatedly in a loop, (2) passing tensors with different shapes, (3) passing Python objects instead of tensors. For (1), please define your @tf.function outside of the loop. For (2), @tf.function has experimental_relax_shapes=True option that relaxes argument shapes that can avoid unnecessary retracing. For (3), please refer to https://www.tensorflow.org/guide/function#controlling_retracing and https://www.tensorflow.org/api_docs/python/tf/function for  more details.\n",
      "WARNING:tensorflow:10 out of the last 10 calls to <function h_z2w at 0x7fa16e37d8b0> triggered tf.function retracing. Tracing is expensive and the excessive number of tracings could be due to (1) creating @tf.function repeatedly in a loop, (2) passing tensors with different shapes, (3) passing Python objects instead of tensors. For (1), please define your @tf.function outside of the loop. For (2), @tf.function has experimental_relax_shapes=True option that relaxes argument shapes that can avoid unnecessary retracing. For (3), please refer to https://www.tensorflow.org/guide/function#controlling_retracing and https://www.tensorflow.org/api_docs/python/tf/function for  more details.\n",
      "tf.Tensor([-0.78463733], shape=(1,), dtype=float32)\n",
      "WARNING:tensorflow:11 out of the last 11 calls to <function h_z2w at 0x7fa16e37d8b0> triggered tf.function retracing. Tracing is expensive and the excessive number of tracings could be due to (1) creating @tf.function repeatedly in a loop, (2) passing tensors with different shapes, (3) passing Python objects instead of tensors. For (1), please define your @tf.function outside of the loop. For (2), @tf.function has experimental_relax_shapes=True option that relaxes argument shapes that can avoid unnecessary retracing. For (3), please refer to https://www.tensorflow.org/guide/function#controlling_retracing and https://www.tensorflow.org/api_docs/python/tf/function for  more details.\n",
      "WARNING:tensorflow:11 out of the last 11 calls to <function h_z2w at 0x7fa16e37d8b0> triggered tf.function retracing. Tracing is expensive and the excessive number of tracings could be due to (1) creating @tf.function repeatedly in a loop, (2) passing tensors with different shapes, (3) passing Python objects instead of tensors. For (1), please define your @tf.function outside of the loop. For (2), @tf.function has experimental_relax_shapes=True option that relaxes argument shapes that can avoid unnecessary retracing. For (3), please refer to https://www.tensorflow.org/guide/function#controlling_retracing and https://www.tensorflow.org/api_docs/python/tf/function for  more details.\n",
      "tf.Tensor([-0.51165223], shape=(1,), dtype=float32)\n"
     ]
    }
   ],
   "source": [
    "w_single = []\n",
    "test_z = np.linspace(-2,2,5, dtype=np.float32)\n",
    "\n",
    "# tf.config.run_functions_eagerly(True)\n",
    "for z_ in test_z:\n",
    "    z_ = tf.Variable(z_, trainable=True)\n",
    "    q_dist=VIMLTS(np.shape(delta_theta_init)[0])\n",
    "    # Update the variational parameter to the variational distribution\n",
    "    q_dist.update_lambda_param(lambda_tunable)\n",
    "    q_dist, w = q_dist.get_target_dist_for_z(z_)\n",
    "    w_single.append(w)\n",
    "    print(w)"
   ],
   "metadata": {
    "collapsed": false,
    "pycharm": {
     "name": "#%%\n"
    }
   }
  },
  {
   "cell_type": "markdown",
   "source": [
    "## Compare with keras implementation"
   ],
   "metadata": {
    "collapsed": false,
    "pycharm": {
     "name": "#%% md\n"
    }
   }
  },
  {
   "cell_type": "code",
   "execution_count": 4,
   "outputs": [],
   "source": [
    "kernel_a = VIMLTS_utils.to_a(tf.reshape(a_init, (1,1,1)))\n",
    "kernel_theta = VIMLTS_utils.to_theta(delta_theta_init)\n",
    "kernel_theta = VIMLTS_utils.to_theta(tf.reshape(delta_theta_init, (-1,1,1)))\n",
    "kernel_theta=tf.transpose(kernel_theta, perm=[1, 2, 0])\n",
    "kernel_alpha = VIMLTS_utils.to_alpha(tf.reshape(alpha_init, (1,1,1)))\n",
    "kernel_alpha = tf.cast(kernel_alpha, dtype=tf.float32)\n",
    "kernel_z_sample = tf.cast(np.linspace(-2,2,5), dtype=tf.float32)\n",
    "kernel_beta_dist = VIMLTS_utils.init_beta_dist(len(delta_theta_init))"
   ],
   "metadata": {
    "collapsed": false,
    "pycharm": {
     "name": "#%%\n"
    }
   }
  },
  {
   "cell_type": "code",
   "execution_count": 5,
   "outputs": [
    {
     "name": "stdout",
     "output_type": "stream",
     "text": [
      "WARNING:tensorflow:AutoGraph could not transform <function kernel_eval_h_MLT at 0x7fa16c9ce940> and will run it as-is.\n",
      "Please report this to the TensorFlow team. When filing the bug, set the verbosity to 10 (on Linux, `export AUTOGRAPH_VERBOSITY=10`) and attach the full output.\n",
      "Cause: module 'gast' has no attribute 'Index'\n",
      "To silence this warning, decorate the function with @tf.autograph.experimental.do_not_convert\n",
      "WARNING: AutoGraph could not transform <function kernel_eval_h_MLT at 0x7fa16c9ce940> and will run it as-is.\n",
      "Please report this to the TensorFlow team. When filing the bug, set the verbosity to 10 (on Linux, `export AUTOGRAPH_VERBOSITY=10`) and attach the full output.\n",
      "Cause: module 'gast' has no attribute 'Index'\n",
      "To silence this warning, decorate the function with @tf.autograph.experimental.do_not_convert\n",
      "tf.Tensor([[[-1.7052319]]], shape=(1, 1, 1), dtype=float32)\n",
      "tf.Tensor([[[-1.4543245]]], shape=(1, 1, 1), dtype=float32)\n",
      "tf.Tensor([[[-1.11914]]], shape=(1, 1, 1), dtype=float32)\n",
      "tf.Tensor([[[-0.7846373]]], shape=(1, 1, 1), dtype=float32)\n",
      "tf.Tensor([[[-0.5116521]]], shape=(1, 1, 1), dtype=float32)\n"
     ]
    }
   ],
   "source": [
    "w_keras = []\n",
    "# tf.config.run_functions_eagerly(True)\n",
    "for z in kernel_z_sample:\n",
    "    kernel_w_sample=VIMLTS_utils.kernel_h_z2w(z=z[None, None],\n",
    "                                              a=kernel_a,\n",
    "                                              b=b_init,\n",
    "                                              theta=kernel_theta,\n",
    "                                              alpha=kernel_alpha,\n",
    "                                              beta=beta_init,\n",
    "                                              beta_dist=kernel_beta_dist)\n",
    "    print(kernel_w_sample)\n",
    "    w_keras.append(kernel_w_sample)"
   ],
   "metadata": {
    "collapsed": false,
    "pycharm": {
     "name": "#%%\n"
    }
   }
  },
  {
   "cell_type": "code",
   "execution_count": 6,
   "outputs": [],
   "source": [
    "class VimltsLinear(tf.keras.layers.Layer):\n",
    "    def __init__(self, units, alpha_w=1., beta_w=0., alpha_z=1., beta_z=0., theta=[1.], num_samples=10):\n",
    "        super().__init__()\n",
    "        self.alpha_w_init = alpha_w\n",
    "        self.beta_w_init = beta_w\n",
    "        self.alpha_z_init = alpha_z\n",
    "        self.beta_z_init = beta_z\n",
    "        self.theta_init = theta\n",
    "        self.units_ = units\n",
    "        self.num_samples_ = num_samples\n",
    "        self.prior_dist_ = tfd.Normal(loc=0., scale=1.)\n",
    "        self.beta_dist = self.init_beta_dist(len(theta))\n",
    "        self.z_dist_ = None\n",
    "\n",
    "    @staticmethod\n",
    "    def init_beta_dist(M):\n",
    "        in1 = []\n",
    "        in2 = []\n",
    "        for i in range(1,M+1):\n",
    "            in1.append(i)\n",
    "            in2.append(M-i+1)\n",
    "        # print(\"Koeffizienten beta_dist:\")\n",
    "        # print(f'in1 = {in1}')\n",
    "        # print(f'in2 = {in2}')\n",
    "        return tfd.Beta(in1,in2)\n",
    "\n",
    "    def build(self, input_shape):\n",
    "        \"\"\"\n",
    "        Initialization of the trainable variational parameters, for x (independent of #units) and for bias\n",
    "        \"\"\"\n",
    "\n",
    "        # Kernel\n",
    "        self.z_dist_ = tfd.Normal(loc=tf.zeros((input_shape[1], self.units_)), scale=tf.ones((input_shape[1], self.units_)))\n",
    "        self.alpha_w = self.add_weight(shape=(input_shape[1], self.units_),\n",
    "                                       initializer=tf.constant_initializer(self.alpha_w_init),\n",
    "                                       trainable=True)\n",
    "        self.beta_w = self.add_weight(shape=(input_shape[1], self.units_),\n",
    "                                       initializer=tf.constant_initializer(self.beta_w_init),\n",
    "                                       trainable=True)\n",
    "        self.alpha_z = self.add_weight(shape=(input_shape[1], self.units_),\n",
    "                                       initializer=tf.constant_initializer(self.alpha_z_init),\n",
    "                                       trainable=True)\n",
    "        self.beta_z = self.add_weight(shape=(input_shape[1], self.units_),\n",
    "                                       initializer=tf.constant_initializer(self.beta_z_init),\n",
    "                                       trainable=True)\n",
    "        theta_prime = tf.tile(self.theta_init, [input_shape[1] * self.units_])\n",
    "        theta_prime = tf.reshape(theta_prime, (input_shape[1], self.units_, len(self.theta_init)))\n",
    "        self.theta_prime = tf.Variable(initial_value=theta_prime, trainable=True)\n",
    "        super().build(input_shape)\n",
    "\n",
    "    def f_1(self, z):\n",
    "        \"\"\"\n",
    "\n",
    "        :param z: [#samples x #input x #output]\n",
    "        :return: [#samples x #input x #output]\n",
    "        \"\"\"\n",
    "        z_ = tf.math.multiply(tf.math.softplus(self.alpha_z), z) - self.beta_z\n",
    "        return  tf.math.sigmoid(z_)\n",
    "\n",
    "    def f_2(self, z_):\n",
    "        \"\"\"\n",
    "\n",
    "        :param z_: [#samples x #input x #output]\n",
    "        :return:\n",
    "        \"\"\"\n",
    "        theta_p = self.theta_prime  # [#input x #output x M]\n",
    "        theta_p = tf.concat((theta_p[...,0:1], tf.math.softplus(theta_p[...,1:])), axis=-1)\n",
    "\n",
    "        n=theta_p.shape[-1]\n",
    "        tf.ones((n*(n+1) // 2))\n",
    "        m_triangle = tfp.math.fill_triangular(tf.ones(n*(n+1) // 2), upper=True)\n",
    "\n",
    "        theta = theta_p @ m_triangle\n",
    "        fIm=self.beta_dist.prob(z_[...,None]) # to broadcast beta dist [#samples x #input x #output x M]\n",
    "        return tf.math.reduce_mean(fIm * theta, axis=-1)\n",
    "        # return z_\n",
    "\n",
    "    def f_3(self, z_w):\n",
    "        \"\"\"\n",
    "\n",
    "        :type z_w: object\n",
    "        :return: shape [#sample x #input x #output]\n",
    "        \"\"\"\n",
    "        return tf.math.multiply(tf.math.softplus(self.alpha_w), z_w) - self.beta_w\n",
    "\n",
    "    def get_w_dist(self, num=1000):\n",
    "        with tf.GradientTape() as tape:\n",
    "            zz=tf.dtypes.cast(tf.reshape(tf.linspace(-6,6,num), shape=(-1,1,1)), tf.float32)\n",
    "            tape.watch(zz)\n",
    "            w = self.f_3(self.f_2(self.f_1(zz)))\n",
    "            dw_dz = tape.gradient(w, zz)\n",
    "        # tf.reduce_prod(w.shape[1:]) -> undo gradiant adding because of zz broadcasting\n",
    "        dw_dz /= tf.cast(tf.reduce_prod(w.shape[1:]), dtype=tf.float32)\n",
    "        p_z = self.z_dist_.log_prob(zz)\n",
    "        q_w = p_z - tf.math.log(tf.math.abs(dw_dz))\n",
    "        return q_w,w\n",
    "\n",
    "    def call(self, inputs, **kwargs):\n",
    "        \"\"\"\n",
    "\n",
    "        :param inputs: [#batch x #input]\n",
    "        :param kwargs:\n",
    "        :return: [#samples x #batch x #output]\n",
    "        \"\"\"\n",
    "        with tf.GradientTape() as tape:\n",
    "            z = self.z_dist_.sample(self.num_samples_)\n",
    "            print(z)\n",
    "            tape.watch(z)\n",
    "            w = self.f_3(self.f_2(self.f_1(z)))\n",
    "            dw_dz = tape.gradient(w, z)\n",
    "        # compute kl divergence\n",
    "        log_p_w = self.prior_dist_.log_prob(w)\n",
    "        # change of variable ==> p(w) = p(z)/|dw/dz|\n",
    "        log_p_z = self.z_dist_.log_prob(z)\n",
    "        # print(\"dw_dz: \", dw_dz)\n",
    "        # log rules ==> log(p(w)) = log(p(z)) - log(|dw/dz|)\n",
    "        log_q_w = log_p_z - tf.math.log(tf.math.abs(dw_dz))\n",
    "        kl =  tf.reduce_sum(tf.reduce_mean(log_q_w,0)) - tf.reduce_sum(tf.reduce_mean(log_p_w,0))\n",
    "        self.add_loss(kl)\n",
    "\n",
    "        return inputs @ w\n",
    "        # return w\n",
    "\n",
    "vimlts_f = VimltsLinear(2, alpha_z=a_init[0], beta_z=b_init[0], alpha_w=alpha_init[0], beta_w=beta_init[0], theta=delta_theta_init)\n",
    "vimlts_f.build(input_shape=(None, 1))\n",
    "z_ = vimlts_f.f_1(tf.reshape(test_z, (-1,1,1)))\n",
    "z_ = vimlts_f.f_2(z_)\n",
    "w_fast = vimlts_f.f_3(z_)\n",
    "w_fast = w_fast.numpy().squeeze()"
   ],
   "metadata": {
    "collapsed": false,
    "pycharm": {
     "name": "#%%\n"
    }
   }
  },
  {
   "cell_type": "code",
   "execution_count": 7,
   "outputs": [
    {
     "name": "stdout",
     "output_type": "stream",
     "text": [
      "Area under pdf:  0.99999565\n"
     ]
    },
    {
     "data": {
      "text/plain": "<Figure size 432x288 with 1 Axes>",
      "image/png": "[encoded data removed]"
     },
     "metadata": {},
     "output_type": "display_data"
    }
   ],
   "source": [
    "plt.plot(q_history[0][1],q_history[0][0], label=\"tensorflow api\")\n",
    "q, w = vimlts_f.get_w_dist(1000)\n",
    "q = np.exp(q)\n",
    "\n",
    "plt.plot(w.numpy()[:,0,:],q[:,0,:], label=\"fast_keras_api\")\n",
    "plt.legend()\n",
    "print(\"Area under pdf: \",np.trapz(q[:,0,0],w[:,0,0]))"
   ],
   "metadata": {
    "collapsed": false,
    "pycharm": {
     "name": "#%%\n"
    }
   }
  },
  {
   "cell_type": "markdown",
   "source": [
    "### Compare if the three implementations.\n",
    "They must have the same h_z_to_w transformation if we use the same \\lambda parameters."
   ],
   "metadata": {
    "collapsed": false
   }
  },
  {
   "cell_type": "code",
   "source": [
    "from pandas import DataFrame as df\n",
    "df.from_dict(dict(z_sample=test_z,\n",
    "                  w_basic=np.array(w_single).squeeze(),\n",
    "                  w_keras=np.array(w_keras).squeeze(),\n",
    "                  w_keras_fast_first_neuron=w_fast[:,0],\n",
    "                  w_keras_fast_second_neuron=w_fast[:,1],\n",
    "                  ))"
   ],
   "metadata": {
    "collapsed": false,
    "pycharm": {
     "name": "#%%\n"
    }
   },
   "execution_count": 8,
   "outputs": [
    {
     "data": {
      "text/plain": "   z_sample   w_basic   w_keras  w_keras_fast_first_neuron  \\\n0      -2.0 -1.705232 -1.705232                  -1.705232   \n1      -1.0 -1.454324 -1.454324                  -1.454324   \n2       0.0 -1.119140 -1.119140                  -1.119140   \n3       1.0 -0.784637 -0.784637                  -0.784637   \n4       2.0 -0.511652 -0.511652                  -0.511652   \n\n   w_keras_fast_second_neuron  \n0                   -1.705232  \n1                   -1.454324  \n2                   -1.119140  \n3                   -0.784637  \n4                   -0.511652  ",
      "text/html": "<div>\n<style scoped>\n    .dataframe tbody tr th:only-of-type {\n        vertical-align: middle;\n    }\n\n    .dataframe tbody tr th {\n        vertical-align: top;\n    }\n\n    .dataframe thead th {\n        text-align: right;\n    }\n</style>\n<table border=\"1\" class=\"dataframe\">\n  <thead>\n    <tr style=\"text-align: right;\">\n      <th></th>\n      <th>z_sample</th>\n      <th>w_basic</th>\n      <th>w_keras</th>\n      <th>w_keras_fast_first_neuron</th>\n      <th>w_keras_fast_second_neuron</th>\n    </tr>\n  </thead>\n  <tbody>\n    <tr>\n      <th>0</th>\n      <td>-2.0</td>\n      <td>-1.705232</td>\n      <td>-1.705232</td>\n      <td>-1.705232</td>\n      <td>-1.705232</td>\n    </tr>\n    <tr>\n      <th>1</th>\n      <td>-1.0</td>\n      <td>-1.454324</td>\n      <td>-1.454324</td>\n      <td>-1.454324</td>\n      <td>-1.454324</td>\n    </tr>\n    <tr>\n      <th>2</th>\n      <td>0.0</td>\n      <td>-1.119140</td>\n      <td>-1.119140</td>\n      <td>-1.119140</td>\n      <td>-1.119140</td>\n    </tr>\n    <tr>\n      <th>3</th>\n      <td>1.0</td>\n      <td>-0.784637</td>\n      <td>-0.784637</td>\n      <td>-0.784637</td>\n      <td>-0.784637</td>\n    </tr>\n    <tr>\n      <th>4</th>\n      <td>2.0</td>\n      <td>-0.511652</td>\n      <td>-0.511652</td>\n      <td>-0.511652</td>\n      <td>-0.511652</td>\n    </tr>\n  </tbody>\n</table>\n</div>"
     },
     "execution_count": 8,
     "metadata": {},
     "output_type": "execute_result"
    }
   ]
  },
  {
   "cell_type": "markdown",
   "source": [
    "# Comparer KL div"
   ],
   "metadata": {
    "collapsed": false,
    "pycharm": {
     "name": "#%% md\n"
    }
   }
  },
  {
   "cell_type": "code",
   "execution_count": 9,
   "outputs": [],
   "source": [
    "class DenseVIMLTS(Layer):\n",
    "\n",
    "\n",
    "    def __init__(self,\n",
    "                 units,\n",
    "                 kl_weight,\n",
    "                 init_tilde_a,\n",
    "                 init_b,\n",
    "                 init_tilde_alpha,\n",
    "                 init_beta,\n",
    "                 init_theta,\n",
    "                 num_samples_per_epoch=2,\n",
    "                 activation=None,\n",
    "                 prior_mu=0.,\n",
    "                 prior_sigma=1.,\n",
    "                 kernel_m=10,\n",
    "                 bias_m=10, **kwargs):\n",
    "        self.init_tilde_a = init_tilde_a\n",
    "        self.init_b = init_b\n",
    "        self.init_tilde_alpha = init_tilde_alpha\n",
    "        self.init_beta = init_beta\n",
    "        self.init_theta = init_theta\n",
    "        self.units = units\n",
    "        self.kl_weight = kl_weight\n",
    "        self.activation = activations.get(activation)\n",
    "        self.prior_mu = prior_mu\n",
    "        self.prior_sigma = prior_sigma\n",
    "        self.kernel_m=kernel_m\n",
    "        self.bias_m=bias_m\n",
    "        self.kernel_beta_dist=VIMLTS_utils.init_beta_dist(self.kernel_m)\n",
    "        self.bias_beta_dist=VIMLTS_utils.init_beta_dist(self.bias_m)\n",
    "        self.epsilon=tf.constant(0.001)\n",
    "        self.init_gauss=True\n",
    "        self.num_samples=num_samples_per_epoch\n",
    "\n",
    "        super().__init__(**kwargs)\n",
    "\n",
    "    def compute_output_shape(self, input_shape):\n",
    "        return input_shape[0], self.units\n",
    "\n",
    "\n",
    "    def build(self, input_shape):\n",
    "        \"\"\"\n",
    "        Initialization of the trainable variational parameters, for x (independent of #units) and for bias\n",
    "        \"\"\"\n",
    "\n",
    "        # Kernel\n",
    "        self.kernel_tilde_a = self.add_weight(name='kernel_tilde_a',\n",
    "                                          shape=(input_shape[1], self.units),\n",
    "                                             initializer=initializers.Constant(self.init_tilde_a),\n",
    "                                          trainable=True)\n",
    "        self.kernel_b = self.add_weight(name='kernel_b',\n",
    "                                          shape=(input_shape[1], self.units),\n",
    "                                     initializer=initializers.Constant(self.init_b),\n",
    "                                          trainable=True)\n",
    "\n",
    "        self.kernel_start_theta = self.add_weight(name='kernel_start_theta',\n",
    "                                          shape=(input_shape[1], self.units),\n",
    "                                                 initializer=initializers.Constant(self.init_theta[0]),\n",
    "                                          trainable=True)\n",
    "        self.kernel_delta_theta_1 = self.add_weight(name='kernel_delta_theta_1',\n",
    "                                          shape=(input_shape[1], self.units),\n",
    "                                                 initializer=initializers.Constant(self.init_theta[1]),\n",
    "                                          trainable=True)\n",
    "        self.kernel_delta_theta_2 = self.add_weight(name='kernel_delta_theta_2',\n",
    "                                          shape=(input_shape[1], self.units),\n",
    "                                                 initializer=initializers.Constant(self.init_theta[2]),\n",
    "                                          trainable=True)\n",
    "        self.kernel_delta_theta_3 = self.add_weight(name='kernel_delta_theta_3',\n",
    "                                          shape=(input_shape[1], self.units),\n",
    "                                                 initializer=initializers.Constant(self.init_theta[3]),\n",
    "                                          trainable=True)\n",
    "        self.kernel_delta_theta_4 = self.add_weight(name='kernel_delta_theta_4',\n",
    "                                          shape=(input_shape[1], self.units),\n",
    "                                                 initializer=initializers.Constant(self.init_theta[4]),\n",
    "                                          trainable=True)\n",
    "        self.kernel_delta_theta_5 = self.add_weight(name='kernel_delta_theta_5',\n",
    "                                          shape=(input_shape[1], self.units),\n",
    "                                                 initializer=initializers.Constant(self.init_theta[5]),\n",
    "                                          trainable=True)\n",
    "        self.kernel_delta_theta_6 = self.add_weight(name='kernel_delta_theta_6',\n",
    "                                          shape=(input_shape[1], self.units),\n",
    "                                                 initializer=initializers.Constant(self.init_theta[6]),\n",
    "                                          trainable=True)\n",
    "        self.kernel_delta_theta_7 = self.add_weight(name='kernel_delta_theta_7',\n",
    "                                          shape=(input_shape[1], self.units),\n",
    "                                                 initializer=initializers.Constant(self.init_theta[7]),\n",
    "                                          trainable=True)\n",
    "        self.kernel_delta_theta_8 = self.add_weight(name='kernel_delta_theta_8',\n",
    "                                          shape=(input_shape[1], self.units),\n",
    "                                                 initializer=initializers.Constant(self.init_theta[8]),\n",
    "                                          trainable=True)\n",
    "        self.kernel_delta_theta_9 = self.add_weight(name='kernel_delta_theta_9',\n",
    "                                          shape=(input_shape[1], self.units),\n",
    "                                                 initializer=initializers.Constant(self.init_theta[9]),\n",
    "                                          trainable=True)\n",
    "\n",
    "        self.kernel_tilde_alpha = self.add_weight(name='kernel_tilde_alpha',\n",
    "                                          shape=(input_shape[1], self.units),\n",
    "                                                 initializer=initializers.Constant(self.init_tilde_alpha),\n",
    "                                          trainable=True)\n",
    "        self.kernel_beta = self.add_weight(name='kernel_beta',\n",
    "                                          shape=(input_shape[1], self.units),\n",
    "                                         initializer=initializers.Constant(self.init_beta),\n",
    "                                          trainable=True)\n",
    "\n",
    "\n",
    "        # Bias\n",
    "        self.bias_tilde_a = self.add_weight(name='bias_tilde_a',\n",
    "                                          shape=(self.units,),\n",
    "                                         initializer=initializers.Constant(self.init_tilde_a),\n",
    "                                          trainable=True)\n",
    "        self.bias_b = self.add_weight(name='bias_b',\n",
    "                                          shape=(self.units,),\n",
    "                                     initializer=initializers.Constant(self.init_b),\n",
    "                                          trainable=True)\n",
    "\n",
    "        self.bias_start_theta = self.add_weight(name='bias_start_theta',\n",
    "                                          shape=(self.units,),\n",
    "                                             initializer=initializers.Constant(self.init_theta[0]),\n",
    "                                          trainable=True)\n",
    "        self.bias_delta_theta_1 = self.add_weight(name='bias_delta_theta_1',\n",
    "                                          shape=(self.units,),\n",
    "                                                 initializer=initializers.Constant(self.init_theta[1]),\n",
    "                                          trainable=True)\n",
    "        self.bias_delta_theta_2 = self.add_weight(name='bias_delta_theta_2',\n",
    "                                          shape=(self.units,),\n",
    "                                                 initializer=initializers.Constant(self.init_theta[2]),\n",
    "                                          trainable=True)\n",
    "        self.bias_delta_theta_3 = self.add_weight(name='bias_delta_theta_3',\n",
    "                                          shape=(self.units,),\n",
    "                                                 initializer=initializers.Constant(self.init_theta[3]),\n",
    "                                          trainable=True)\n",
    "        self.bias_delta_theta_4 = self.add_weight(name='bias_delta_theta_4',\n",
    "                                          shape=(self.units,),\n",
    "                                                 initializer=initializers.Constant(self.init_theta[4]),\n",
    "                                          trainable=True)\n",
    "        self.bias_delta_theta_5 = self.add_weight(name='bias_delta_theta_5',\n",
    "                                          shape=(self.units,),\n",
    "                                                 initializer=initializers.Constant(self.init_theta[5]),\n",
    "                                          trainable=True)\n",
    "        self.bias_delta_theta_6 = self.add_weight(name='bias_delta_theta_6',\n",
    "                                          shape=(self.units,),\n",
    "                                                 initializer=initializers.Constant(self.init_theta[6]),\n",
    "                                          trainable=True)\n",
    "        self.bias_delta_theta_7 = self.add_weight(name='bias_delta_theta_7',\n",
    "                                          shape=(self.units,),\n",
    "                                                 initializer=initializers.Constant(self.init_theta[7]),\n",
    "                                          trainable=True)\n",
    "        self.bias_delta_theta_8 = self.add_weight(name='bias_delta_theta_8',\n",
    "                                          shape=(self.units,),\n",
    "                                                 initializer=initializers.Constant(self.init_theta[8]),\n",
    "                                          trainable=True)\n",
    "        self.bias_delta_theta_9 = self.add_weight(name='bias_delta_theta_9',\n",
    "                                          shape=(self.units,),\n",
    "                                                 initializer=initializers.Constant(self.init_theta[9]),\n",
    "                                          trainable=True)\n",
    "\n",
    "        self.bias_tilde_alpha = self.add_weight(name='bias_tilde_alpha',\n",
    "                                          shape=(self.units,),\n",
    "                                             initializer=initializers.Constant(self.init_tilde_alpha),\n",
    "                                          trainable=True)\n",
    "        self.bias_beta = self.add_weight(name='bias_beta',\n",
    "                                          shape=(self.units,),\n",
    "                                         initializer=initializers.Constant(self.init_beta),\n",
    "                                          trainable=True)\n",
    "        super().build(input_shape)\n",
    "\n",
    "\n",
    "    def call(self, inputs, **kwargs):\n",
    "        \"\"\"Calculation of the forward direction of the network by\n",
    "        -drawing parameters\n",
    "        -Calculation loss KL\n",
    "        -Calculation output of the layer\n",
    "        \"\"\"\n",
    "\n",
    "        # 1.) Conversion of trainable variational parameters to parameters of distribution (x)\n",
    "        kernel_a = VIMLTS_utils.to_a(self.kernel_tilde_a)\n",
    "        kernel_theta = VIMLTS_utils.to_theta([self.kernel_start_theta,\n",
    "                                        self.kernel_delta_theta_1,\n",
    "                                        self.kernel_delta_theta_2,\n",
    "                                        self.kernel_delta_theta_3,\n",
    "                                        self.kernel_delta_theta_4,\n",
    "                                        self.kernel_delta_theta_5,\n",
    "                                        self.kernel_delta_theta_6,\n",
    "                                        self.kernel_delta_theta_7,\n",
    "                                        self.kernel_delta_theta_8,\n",
    "                                        self.kernel_delta_theta_9])\n",
    "        kernel_theta=tf.transpose(kernel_theta, perm=[1, 2, 0])\n",
    "        kernel_alpha = VIMLTS_utils.to_alpha(self.kernel_tilde_alpha)\n",
    "\n",
    "        # 3.) Conversion of trainable variational parameters to parameters of distribution (bias)\n",
    "        bias_a = VIMLTS_utils.to_a(self.bias_tilde_a)\n",
    "        bias_theta = VIMLTS_utils.to_theta([self.bias_start_theta,\n",
    "                                        self.bias_delta_theta_1,\n",
    "                                        self.bias_delta_theta_2,\n",
    "                                        self.bias_delta_theta_3,\n",
    "                                        self.bias_delta_theta_4,\n",
    "                                        self.bias_delta_theta_5,\n",
    "                                        self.bias_delta_theta_6,\n",
    "                                        self.bias_delta_theta_7,\n",
    "                                        self.bias_delta_theta_8,\n",
    "                                        self.bias_delta_theta_9])\n",
    "        bias_theta=tf.transpose(bias_theta, perm=[1, 0])\n",
    "        bias_alpha = VIMLTS_utils.to_alpha(self.bias_tilde_alpha)\n",
    "\n",
    "\n",
    "        # 2.) Sampling from variational dist by reparametrization trick - prototype version (x)\n",
    "        samples = tf.random.normal((self.num_samples,)+self.kernel_tilde_a.shape)\n",
    "        for current_sample, kernel_z_sample in enumerate(samples):\n",
    "            # kernel_z_sample=tf.random.normal(self.kernel_tilde_a.shape)\n",
    "            print(\"keras z sample: \", kernel_z_sample)\n",
    "            kernel_w_sample=VIMLTS_utils.kernel_h_z2w(z=kernel_z_sample,\n",
    "                                            a=kernel_a,\n",
    "                                            b=self.kernel_b,\n",
    "                                            theta=kernel_theta,\n",
    "                                            alpha=kernel_alpha,\n",
    "                                            beta=self.kernel_beta,\n",
    "                                            beta_dist=self.kernel_beta_dist)\n",
    "\n",
    "            if current_sample==0:\n",
    "                kernel_w_sample_list=tf.reshape(kernel_w_sample,[1,kernel_w_sample.shape[0],kernel_w_sample.shape[1]])\n",
    "            else:\n",
    "                kernel_w_sample_list=tf.concat([kernel_w_sample_list,tf.reshape(kernel_w_sample,[1,kernel_w_sample.shape[0],kernel_w_sample.shape[1]])],axis=0)\n",
    "\n",
    "            print(\"keras w sample: \", kernel_w_sample)\n",
    "\n",
    "            # 4.) Sampling from variational dist by reparametrization trick - prototype version (bias)\n",
    "            bias_z_sample=tf.random.normal(self.bias_tilde_a.shape)\n",
    "            bias_w_sample=VIMLTS_utils.bias_h_z2w(z=bias_z_sample,\n",
    "                                            a=bias_a,\n",
    "                                            b=self.bias_b,\n",
    "                                            theta=bias_theta,\n",
    "                                            alpha=bias_alpha,\n",
    "                                            beta=self.bias_beta,\n",
    "                                            beta_dist=self.bias_beta_dist)\n",
    "            if current_sample==0:\n",
    "                bias_w_sample_list=tf.reshape(bias_w_sample,[1,bias_w_sample.shape[0]])\n",
    "            else:\n",
    "                bias_w_sample_list=tf.concat([bias_w_sample_list,tf.reshape(bias_w_sample,[1,bias_w_sample.shape[0]])],axis=0)\n",
    "\n",
    "\n",
    "            # 5.) Calculation l_kl by calling function with passing the sample and the variational parameters (x and bias)\n",
    "\n",
    "            kernel_kl_loss=self.calc_kernel_kl_loss(kernel_w_sample=kernel_w_sample,\n",
    "                                kernel_z_sample=kernel_z_sample,\n",
    "                                kernel_a=kernel_a,\n",
    "                                kernel_theta=kernel_theta,\n",
    "                                kernel_alpha=kernel_alpha)\n",
    "            if current_sample==0:\n",
    "                kernel_kl_loss_sum=kernel_kl_loss\n",
    "            else:\n",
    "                kernel_kl_loss_sum+=kernel_kl_loss\n",
    "\n",
    "\n",
    "            bias_kl_loss=self.calc_bias_kl_loss(bias_w_sample=bias_w_sample,\n",
    "                                bias_z_sample=bias_z_sample,\n",
    "                                bias_a=bias_a,\n",
    "                                bias_theta=bias_theta,\n",
    "                                bias_alpha=bias_alpha)\n",
    "            if current_sample==0:\n",
    "                bias_kl_loss_sum=bias_kl_loss\n",
    "            else:\n",
    "                bias_kl_loss_sum+=bias_kl_loss\n",
    "\n",
    "\n",
    "        # self.add_loss(1/self.num_samples*kernel_kl_loss_sum+1/self.num_samples*bias_kl_loss_sum)\n",
    "        self.add_loss(1/self.num_samples*kernel_kl_loss_sum)\n",
    "\n",
    "        kernel_mean=tf.reduce_mean(kernel_w_sample_list,axis=0)\n",
    "        bias_mean=tf.reduce_mean(bias_w_sample_list,axis=0)\n",
    "\n",
    "        # 6.) Calculation output of the layer\n",
    "        # return self.activation(K.dot(inputs, kernel_mean)+ bias_mean)\n",
    "        return K.dot(inputs, kernel_mean)\n",
    "\n",
    "    def calc_kernel_kl_loss(self,kernel_w_sample,kernel_z_sample,kernel_a,kernel_theta,kernel_alpha):\n",
    "        kernel_z_epsilon=kernel_z_sample+self.epsilon\n",
    "        kernel_q,w_check=VIMLTS_utils.kernel_eval_variational_dist(z=kernel_z_sample,\n",
    "                                                            z_epsilon=kernel_z_epsilon,\n",
    "                                                            a=kernel_a,\n",
    "                                                            b=self.kernel_b,\n",
    "                                                            theta=kernel_theta,\n",
    "                                                            alpha=kernel_alpha,\n",
    "                                                            beta=self.kernel_beta,\n",
    "                                                            beta_dist=self.kernel_beta_dist)\n",
    "        kernel_kl_loss=self.kl_loss(kernel_q,kernel_w_sample)\n",
    "        return kernel_kl_loss\n",
    "\n",
    "    def calc_bias_kl_loss(self,bias_w_sample,bias_z_sample,bias_a,bias_theta,bias_alpha):\n",
    "        bias_z_epsilon=bias_z_sample+self.epsilon\n",
    "        bias_q,w_check=VIMLTS_utils.bias_eval_variational_dist(z=bias_z_sample,\n",
    "                                                            z_epsilon=bias_z_epsilon,\n",
    "                                                            a=bias_a,\n",
    "                                                            b=self.bias_b,\n",
    "                                                            theta=bias_theta,\n",
    "                                                            alpha=bias_alpha,\n",
    "                                                            beta=self.bias_beta,\n",
    "                                                            beta_dist=self.bias_beta_dist)\n",
    "        bias_kl_loss=self.kl_loss(bias_q,bias_w_sample)\n",
    "        return bias_kl_loss\n",
    "\n",
    "\n",
    "    def kl_loss(self, q, w_sample):\n",
    "        # Calculate KL divergence between variational dist and prior\n",
    "        return self.kl_weight * K.sum(K.log(q) - self.log_prior_prob(w_sample))\n",
    "\n",
    "\n",
    "    def log_prior_prob(self, w):\n",
    "        # Prior\n",
    "        prior_dist = tfp.distributions.Normal(self.prior_mu, self.prior_sigma)\n",
    "        return prior_dist.log_prob(w)"
   ],
   "metadata": {
    "collapsed": false,
    "pycharm": {
     "name": "#%%\n"
    }
   }
  },
  {
   "cell_type": "code",
   "execution_count": 18,
   "outputs": [
    {
     "ename": "TypeError",
     "evalue": "__init__() missing 1 required positional argument: 'activation'",
     "output_type": "error",
     "traceback": [
      "\u001B[0;31m---------------------------------------------------------------------------\u001B[0m",
      "\u001B[0;31mTypeError\u001B[0m                                 Traceback (most recent call last)",
      "\u001B[0;32m<ipython-input-18-3f8aedb68a71>\u001B[0m in \u001B[0;36m<module>\u001B[0;34m\u001B[0m\n\u001B[0;32m----> 1\u001B[0;31m \u001B[0mvimlts_f\u001B[0m \u001B[0;34m=\u001B[0m \u001B[0mVimltsLinear\u001B[0m\u001B[0;34m(\u001B[0m\u001B[0;36m10\u001B[0m\u001B[0;34m,\u001B[0m \u001B[0mnum_samples\u001B[0m\u001B[0;34m=\u001B[0m\u001B[0;36m3\u001B[0m\u001B[0;34m,\u001B[0m \u001B[0malpha_z\u001B[0m\u001B[0;34m=\u001B[0m\u001B[0ma_init\u001B[0m\u001B[0;34m[\u001B[0m\u001B[0;36m0\u001B[0m\u001B[0;34m]\u001B[0m\u001B[0;34m,\u001B[0m \u001B[0mbeta_z\u001B[0m\u001B[0;34m=\u001B[0m\u001B[0mb_init\u001B[0m\u001B[0;34m[\u001B[0m\u001B[0;36m0\u001B[0m\u001B[0;34m]\u001B[0m\u001B[0;34m,\u001B[0m \u001B[0malpha_w\u001B[0m\u001B[0;34m=\u001B[0m\u001B[0malpha_init\u001B[0m\u001B[0;34m[\u001B[0m\u001B[0;36m0\u001B[0m\u001B[0;34m]\u001B[0m\u001B[0;34m,\u001B[0m \u001B[0mbeta_w\u001B[0m\u001B[0;34m=\u001B[0m\u001B[0mbeta_init\u001B[0m\u001B[0;34m[\u001B[0m\u001B[0;36m0\u001B[0m\u001B[0;34m]\u001B[0m\u001B[0;34m,\u001B[0m \u001B[0mtheta\u001B[0m\u001B[0;34m=\u001B[0m\u001B[0mdelta_theta_init\u001B[0m\u001B[0;34m)\u001B[0m\u001B[0;34m\u001B[0m\u001B[0;34m\u001B[0m\u001B[0m\n\u001B[0m\u001B[1;32m      2\u001B[0m \u001B[0mmodel_f\u001B[0m \u001B[0;34m=\u001B[0m \u001B[0mtf\u001B[0m\u001B[0;34m.\u001B[0m\u001B[0mkeras\u001B[0m\u001B[0;34m.\u001B[0m\u001B[0mSequential\u001B[0m\u001B[0;34m(\u001B[0m\u001B[0mvimlts_f\u001B[0m\u001B[0;34m,\u001B[0m \u001B[0mname\u001B[0m\u001B[0;34m=\u001B[0m\u001B[0;34m'vimlts'\u001B[0m\u001B[0;34m)\u001B[0m\u001B[0;34m\u001B[0m\u001B[0;34m\u001B[0m\u001B[0m\n\u001B[1;32m      3\u001B[0m \u001B[0mmodel_f\u001B[0m\u001B[0;34m.\u001B[0m\u001B[0mbuild\u001B[0m\u001B[0;34m(\u001B[0m\u001B[0minput_shape\u001B[0m\u001B[0;34m=\u001B[0m\u001B[0;34m(\u001B[0m\u001B[0;32mNone\u001B[0m\u001B[0;34m,\u001B[0m \u001B[0;36m2\u001B[0m\u001B[0;34m)\u001B[0m\u001B[0;34m)\u001B[0m\u001B[0;34m\u001B[0m\u001B[0;34m\u001B[0m\u001B[0m\n\u001B[1;32m      4\u001B[0m \u001B[0mnp\u001B[0m\u001B[0;34m.\u001B[0m\u001B[0mrandom\u001B[0m\u001B[0;34m.\u001B[0m\u001B[0mseed\u001B[0m\u001B[0;34m(\u001B[0m\u001B[0;36m1\u001B[0m\u001B[0;34m)\u001B[0m\u001B[0;34m\u001B[0m\u001B[0;34m\u001B[0m\u001B[0m\n\u001B[1;32m      5\u001B[0m \u001B[0mtf\u001B[0m\u001B[0;34m.\u001B[0m\u001B[0mrandom\u001B[0m\u001B[0;34m.\u001B[0m\u001B[0mset_seed\u001B[0m\u001B[0;34m(\u001B[0m\u001B[0;36m1\u001B[0m\u001B[0;34m)\u001B[0m\u001B[0;34m\u001B[0m\u001B[0;34m\u001B[0m\u001B[0m\n",
      "\u001B[0;31mTypeError\u001B[0m: __init__() missing 1 required positional argument: 'activation'"
     ]
    }
   ],
   "source": [
    "vimlts_f = VimltsLinear(10, num_samples=3, alpha_z=a_init[0], beta_z=b_init[0], alpha_w=alpha_init[0], beta_w=beta_init[0], theta=delta_theta_init)\n",
    "model_f = tf.keras.Sequential(vimlts_f, name='vimlts')\n",
    "model_f.build(input_shape=(None, 2))\n",
    "np.random.seed(1)\n",
    "tf.random.set_seed(1)\n",
    "out_f = model_f(tf.ones((5,2)))\n",
    "# model_f.fit(tf.ones((5,1)), tf.ones((5,1))*4)\n",
    "tf.reduce_mean(out_f, 0)  # ToDo: Aber reduce mean ist eigentlich nicht was wir hier machen wollen"
   ],
   "metadata": {
    "collapsed": false,
    "pycharm": {
     "name": "#%%\n"
    }
   }
  },
  {
   "cell_type": "code",
   "execution_count": 11,
   "outputs": [
    {
     "name": "stdout",
     "output_type": "stream",
     "text": [
      "keras z sample:  tf.Tensor(\n",
      "[[-1.1012203   1.5457517   0.383644   -0.87965786 -1.2246722  -0.9811211\n",
      "   0.08780783 -0.20326038 -0.5581562  -0.7205441 ]\n",
      " [-0.6259924  -0.71502596 -0.34835446 -0.33646983  0.18257578  1.1085953\n",
      "   1.2796588  -0.02147583 -0.31968883  0.37332553]], shape=(2, 10), dtype=float32)\n",
      "keras w sample:  tf.Tensor(\n",
      "[[-1.4845272  -0.6260103  -0.98599577 -1.4171896  -1.5199972  -1.4485846\n",
      "  -1.088407   -1.1903173  -1.3124056  -1.3662441 ]\n",
      " [-1.3350978  -1.3644431  -1.2407627  -1.2366518  -1.0553596  -0.7514379\n",
      "  -0.7007315  -1.1266654  -1.23084    -0.9895232 ]], shape=(2, 10), dtype=float32)\n",
      "WARNING:tensorflow:AutoGraph could not transform <function bias_eval_h_MLT at 0x7fa16c9ce9d0> and will run it as-is.\n",
      "Please report this to the TensorFlow team. When filing the bug, set the verbosity to 10 (on Linux, `export AUTOGRAPH_VERBOSITY=10`) and attach the full output.\n",
      "Cause: module 'gast' has no attribute 'Index'\n",
      "To silence this warning, decorate the function with @tf.autograph.experimental.do_not_convert\n",
      "WARNING: AutoGraph could not transform <function bias_eval_h_MLT at 0x7fa16c9ce9d0> and will run it as-is.\n",
      "Please report this to the TensorFlow team. When filing the bug, set the verbosity to 10 (on Linux, `export AUTOGRAPH_VERBOSITY=10`) and attach the full output.\n",
      "Cause: module 'gast' has no attribute 'Index'\n",
      "To silence this warning, decorate the function with @tf.autograph.experimental.do_not_convert\n",
      "keras z sample:  tf.Tensor(\n",
      "[[ 0.25279108  0.6437664   2.146308   -0.8251497  -0.9041368   1.3948786\n",
      "   1.2248751   0.05864959 -0.49213138 -0.81997806]\n",
      " [-0.18526012 -0.39277685 -0.65852255 -0.9833388   0.38883775 -1.0372449\n",
      "  -1.5600569  -0.15791254 -0.3566943  -0.2004403 ]], shape=(2, 10), dtype=float32)\n",
      "keras w sample:  tf.Tensor(\n",
      "[[-1.0309999  -0.89858127 -0.47877192 -1.399961   -1.4248462  -0.66773224\n",
      "  -0.71675247 -1.0986038  -1.2900752  -1.3983138 ]\n",
      " [-1.184028   -1.2560858  -1.3458803  -1.4492606  -0.9842218  -1.4655514\n",
      "  -1.6082286  -1.174464   -1.2436447  -1.1893322 ]], shape=(2, 10), dtype=float32)\n",
      "keras z sample:  tf.Tensor(\n",
      "[[ 1.613107    0.6796728   0.08133233  1.3380764   1.1848053  -0.35381562\n",
      "  -0.10400175 -0.75114644 -0.3727463  -0.8732732 ]\n",
      " [ 0.1690602   1.0454441   0.92061925 -0.36889285  0.10171467 -1.1921712\n",
      "  -1.4274356   1.9076501  -0.7215866   1.2887349 ]], shape=(2, 10), dtype=float32)\n",
      "keras w sample:  tf.Tensor(\n",
      "[[-0.60795474 -0.88677126 -1.0906707  -0.6838809  -0.7286018  -1.2426503\n",
      "  -1.1555874  -1.3761928  -1.249185   -1.4151843 ]\n",
      " [-1.060062   -0.7706517  -0.80937856 -1.2478558  -1.0835477  -1.5108094\n",
      "  -1.5747998  -0.5334382  -1.3665842  -0.6980976 ]], shape=(2, 10), dtype=float32)\n"
     ]
    }
   ],
   "source": [
    "tf.executing_eagerly()\n",
    "np.random.seed(1)\n",
    "tf.random.set_seed(1)\n",
    "layer = DenseVIMLTS(units=10,\n",
    "                    num_samples_per_epoch=3,\n",
    "                        kl_weight=1.,\n",
    "                        init_tilde_a = a_init[0],\n",
    "                        init_b = b_init[0],\n",
    "                        init_tilde_alpha = alpha_init[0],\n",
    "                        init_beta = beta_init[0],\n",
    "                        init_theta = delta_theta_init)\n",
    "layer.build(input_shape=(None, 2))\n",
    "out_keras = layer(tf.ones((5,2)))"
   ],
   "metadata": {
    "collapsed": false,
    "pycharm": {
     "name": "#%%\n"
    }
   }
  },
  {
   "cell_type": "markdown",
   "source": [
    "### Compare output again\n",
    "Use the complete Keras code from Stefan with some little changes to compare the two implementations.\n",
    "Changes are:\n",
    "    - same lambda initialization\n",
    "    - same sample order (z-space)"
   ],
   "metadata": {
    "collapsed": false,
    "pycharm": {
     "name": "#%% md\n"
    }
   }
  },
  {
   "cell_type": "code",
   "execution_count": 12,
   "outputs": [
    {
     "name": "stdout",
     "output_type": "stream",
     "text": [
      "Test Passed\n"
     ]
    },
    {
     "data": {
      "text/plain": "   out_fast  out_keras\n0 -2.234223  -2.234223\n1 -1.934181  -1.934181\n2 -1.983820  -1.983820\n3 -2.478267  -2.478266\n4 -2.265525  -2.265525\n5 -2.362255  -2.362255\n6 -2.281502  -2.281502\n7 -2.166560  -2.166560\n8 -2.564245  -2.564245\n9 -2.352232  -2.352232",
      "text/html": "<div>\n<style scoped>\n    .dataframe tbody tr th:only-of-type {\n        vertical-align: middle;\n    }\n\n    .dataframe tbody tr th {\n        vertical-align: top;\n    }\n\n    .dataframe thead th {\n        text-align: right;\n    }\n</style>\n<table border=\"1\" class=\"dataframe\">\n  <thead>\n    <tr style=\"text-align: right;\">\n      <th></th>\n      <th>out_fast</th>\n      <th>out_keras</th>\n    </tr>\n  </thead>\n  <tbody>\n    <tr>\n      <th>0</th>\n      <td>-2.234223</td>\n      <td>-2.234223</td>\n    </tr>\n    <tr>\n      <th>1</th>\n      <td>-1.934181</td>\n      <td>-1.934181</td>\n    </tr>\n    <tr>\n      <th>2</th>\n      <td>-1.983820</td>\n      <td>-1.983820</td>\n    </tr>\n    <tr>\n      <th>3</th>\n      <td>-2.478267</td>\n      <td>-2.478266</td>\n    </tr>\n    <tr>\n      <th>4</th>\n      <td>-2.265525</td>\n      <td>-2.265525</td>\n    </tr>\n    <tr>\n      <th>5</th>\n      <td>-2.362255</td>\n      <td>-2.362255</td>\n    </tr>\n    <tr>\n      <th>6</th>\n      <td>-2.281502</td>\n      <td>-2.281502</td>\n    </tr>\n    <tr>\n      <th>7</th>\n      <td>-2.166560</td>\n      <td>-2.166560</td>\n    </tr>\n    <tr>\n      <th>8</th>\n      <td>-2.564245</td>\n      <td>-2.564245</td>\n    </tr>\n    <tr>\n      <th>9</th>\n      <td>-2.352232</td>\n      <td>-2.352232</td>\n    </tr>\n  </tbody>\n</table>\n</div>"
     },
     "execution_count": 12,
     "metadata": {},
     "output_type": "execute_result"
    }
   ],
   "source": [
    "print(\"Test Passed\") if np.isclose(out_keras, tf.reduce_mean(out_f, 0)).all() else print(\"Test Failed\")\n",
    "df.from_dict(dict(out_fast=tf.reduce_mean(out_f, 0).numpy().squeeze()[0],\n",
    "                  out_keras=out_keras.numpy().squeeze()[0]))"
   ],
   "metadata": {
    "collapsed": false,
    "pycharm": {
     "name": "#%%\n"
    }
   }
  },
  {
   "cell_type": "markdown",
   "source": [
    "### Compare KL divergence computation"
   ],
   "metadata": {
    "collapsed": false,
    "pycharm": {
     "name": "#%% md\n"
    }
   }
  },
  {
   "cell_type": "code",
   "execution_count": 13,
   "outputs": [
    {
     "name": "stdout",
     "output_type": "stream",
     "text": [
      "Test Failed\n"
     ]
    },
    {
     "data": {
      "text/plain": "   vimlts_fast_kl_with_grad  vimlts_keras_kl_with_eps\n0                 28.637932                 28.636328",
      "text/html": "<div>\n<style scoped>\n    .dataframe tbody tr th:only-of-type {\n        vertical-align: middle;\n    }\n\n    .dataframe tbody tr th {\n        vertical-align: top;\n    }\n\n    .dataframe thead th {\n        text-align: right;\n    }\n</style>\n<table border=\"1\" class=\"dataframe\">\n  <thead>\n    <tr style=\"text-align: right;\">\n      <th></th>\n      <th>vimlts_fast_kl_with_grad</th>\n      <th>vimlts_keras_kl_with_eps</th>\n    </tr>\n  </thead>\n  <tbody>\n    <tr>\n      <th>0</th>\n      <td>28.637932</td>\n      <td>28.636328</td>\n    </tr>\n  </tbody>\n</table>\n</div>"
     },
     "execution_count": 13,
     "metadata": {},
     "output_type": "execute_result"
    }
   ],
   "source": [
    "print(\"Test Passed\") if np.isclose(layer.losses[0], vimlts_f.losses[0]).all() else print(\"Test Failed\")\n",
    "df.from_dict(dict(vimlts_fast_kl_with_grad=vimlts_f.losses[0].numpy().reshape(-1),\n",
    "                  vimlts_keras_kl_with_eps=layer.losses[0].numpy().reshape(-1)))"
   ],
   "metadata": {
    "collapsed": false,
    "pycharm": {
     "name": "#%%\n"
    }
   }
  },
  {
   "cell_type": "code",
   "execution_count": 29,
   "outputs": [
    {
     "name": "stdout",
     "output_type": "stream",
     "text": [
      "KL:  28.6379318\n"
     ]
    }
   ],
   "source": [
    "from src.vimlts_fast import VimltsLinear\n",
    "vimlts_ff = VimltsLinear(10, activation=lambda x:x,\n",
    "                        num_samples=3, alpha_z=a_init[0], beta_z=b_init[0], alpha_w=alpha_init[0], beta_w=beta_init[0], theta=delta_theta_init)\n",
    "model_ff = tf.keras.Sequential(vimlts_ff, name='vimlts')\n",
    "model_ff.build(input_shape=(None, 2))\n",
    "np.random.seed(1)\n",
    "tf.random.set_seed(1)\n",
    "# x = tf.convert_to_tensor(np.arange(0,5,5, dtype=np.float32).reshape(-1,1))\n",
    "# out_ff = model_ff(x)\n",
    "out_ff = model_ff(tf.ones((5,2)))\n",
    "# model_f.fit(tf.ones((5,1)), tf.ones((5,1))*4)"
   ],
   "metadata": {
    "collapsed": false,
    "pycharm": {
     "name": "#%%\n"
    }
   }
  },
  {
   "cell_type": "markdown",
   "source": [
    "The algo was ported into an own module.\n",
    "Now we compare it again"
   ],
   "metadata": {
    "collapsed": false,
    "pycharm": {
     "name": "#%% md\n"
    }
   }
  },
  {
   "cell_type": "code",
   "execution_count": 15,
   "outputs": [
    {
     "name": "stdout",
     "output_type": "stream",
     "text": [
      "Test Failed\n"
     ]
    },
    {
     "data": {
      "text/plain": "   vimlts_fast_kl_with_grad  vimlts_fast_bib_kl_with_grad  \\\n0                 28.637932                      14.37247   \n\n   vimlts_keras_kl_with_eps  \n0                 28.636328  ",
      "text/html": "<div>\n<style scoped>\n    .dataframe tbody tr th:only-of-type {\n        vertical-align: middle;\n    }\n\n    .dataframe tbody tr th {\n        vertical-align: top;\n    }\n\n    .dataframe thead th {\n        text-align: right;\n    }\n</style>\n<table border=\"1\" class=\"dataframe\">\n  <thead>\n    <tr style=\"text-align: right;\">\n      <th></th>\n      <th>vimlts_fast_kl_with_grad</th>\n      <th>vimlts_fast_bib_kl_with_grad</th>\n      <th>vimlts_keras_kl_with_eps</th>\n    </tr>\n  </thead>\n  <tbody>\n    <tr>\n      <th>0</th>\n      <td>28.637932</td>\n      <td>14.37247</td>\n      <td>28.636328</td>\n    </tr>\n  </tbody>\n</table>\n</div>"
     },
     "execution_count": 15,
     "metadata": {},
     "output_type": "execute_result"
    }
   ],
   "source": [
    "print(\"Test Passed\") if np.isclose(vimlts_ff.losses[0], vimlts_f.losses[0]).all() else print(\"Test Failed\")\n",
    "df.from_dict(dict(vimlts_fast_kl_with_grad=vimlts_f.losses[0].numpy().reshape(-1),\n",
    "                  vimlts_fast_bib_kl_with_grad=vimlts_ff.losses[0].numpy().reshape(-1),\n",
    "                  vimlts_keras_kl_with_eps=layer.losses[0].numpy().reshape(-1)))\n"
   ],
   "metadata": {
    "collapsed": false,
    "pycharm": {
     "name": "#%%\n"
    }
   }
  },
  {
   "cell_type": "code",
   "execution_count": 16,
   "outputs": [
    {
     "name": "stdout",
     "output_type": "stream",
     "text": [
      "Test Failed\n"
     ]
    },
    {
     "data": {
      "text/plain": "   out_fast  out_fast_bib  out_keras\n0 -2.234223     -1.283542  -2.234223\n1 -1.934181     -0.963012  -1.934181\n2 -1.983820     -0.901843  -1.983820\n3 -2.478267     -1.351267  -2.478266\n4 -2.265525     -1.333401  -2.265525\n5 -2.362255     -0.955918  -2.362255\n6 -2.281502     -0.835297  -2.281502\n7 -2.166560     -1.138529  -2.166560\n8 -2.564245     -1.277773  -2.564245\n9 -2.352232     -1.251360  -2.352232",
      "text/html": "<div>\n<style scoped>\n    .dataframe tbody tr th:only-of-type {\n        vertical-align: middle;\n    }\n\n    .dataframe tbody tr th {\n        vertical-align: top;\n    }\n\n    .dataframe thead th {\n        text-align: right;\n    }\n</style>\n<table border=\"1\" class=\"dataframe\">\n  <thead>\n    <tr style=\"text-align: right;\">\n      <th></th>\n      <th>out_fast</th>\n      <th>out_fast_bib</th>\n      <th>out_keras</th>\n    </tr>\n  </thead>\n  <tbody>\n    <tr>\n      <th>0</th>\n      <td>-2.234223</td>\n      <td>-1.283542</td>\n      <td>-2.234223</td>\n    </tr>\n    <tr>\n      <th>1</th>\n      <td>-1.934181</td>\n      <td>-0.963012</td>\n      <td>-1.934181</td>\n    </tr>\n    <tr>\n      <th>2</th>\n      <td>-1.983820</td>\n      <td>-0.901843</td>\n      <td>-1.983820</td>\n    </tr>\n    <tr>\n      <th>3</th>\n      <td>-2.478267</td>\n      <td>-1.351267</td>\n      <td>-2.478266</td>\n    </tr>\n    <tr>\n      <th>4</th>\n      <td>-2.265525</td>\n      <td>-1.333401</td>\n      <td>-2.265525</td>\n    </tr>\n    <tr>\n      <th>5</th>\n      <td>-2.362255</td>\n      <td>-0.955918</td>\n      <td>-2.362255</td>\n    </tr>\n    <tr>\n      <th>6</th>\n      <td>-2.281502</td>\n      <td>-0.835297</td>\n      <td>-2.281502</td>\n    </tr>\n    <tr>\n      <th>7</th>\n      <td>-2.166560</td>\n      <td>-1.138529</td>\n      <td>-2.166560</td>\n    </tr>\n    <tr>\n      <th>8</th>\n      <td>-2.564245</td>\n      <td>-1.277773</td>\n      <td>-2.564245</td>\n    </tr>\n    <tr>\n      <th>9</th>\n      <td>-2.352232</td>\n      <td>-1.251360</td>\n      <td>-2.352232</td>\n    </tr>\n  </tbody>\n</table>\n</div>"
     },
     "execution_count": 16,
     "metadata": {},
     "output_type": "execute_result"
    }
   ],
   "source": [
    "print(\"Test Passed\") if np.isclose(out_ff, out_f).all() else print(\"Test Failed\")\n",
    "df.from_dict(dict(out_fast=tf.reduce_mean(out_f, 0).numpy().squeeze()[0],\n",
    "                  out_fast_bib=tf.reduce_mean(out_ff, 0).numpy().squeeze()[0],\n",
    "                  out_keras=out_keras.numpy().squeeze()[0]))"
   ],
   "metadata": {
    "collapsed": false,
    "pycharm": {
     "name": "#%%\n"
    }
   }
  },
  {
   "cell_type": "code",
   "execution_count": 17,
   "outputs": [
    {
     "data": {
      "text/plain": "Text(0.5, 1.0, 'Area under pdf of first neuron: 0.9999956488609314')"
     },
     "execution_count": 17,
     "metadata": {},
     "output_type": "execute_result"
    },
    {
     "data": {
      "text/plain": "<Figure size 432x288 with 1 Axes>",
      "image/png": "[encoded data removed]"
     },
     "metadata": {},
     "output_type": "display_data"
    }
   ],
   "source": [
    "q_pdf, w = vimlts_ff.get_w_dist()\n",
    "plt.plot(w[:,0,0], q_pdf[:,0,0])\n",
    "plt.title(f\"Area under pdf of first neuron: {np.trapz(q_pdf[:,0,0], w[:,0,0])}\")"
   ],
   "metadata": {
    "collapsed": false,
    "pycharm": {
     "name": "#%%\n"
    }
   }
  },
  {
   "cell_type": "code",
   "execution_count": 7,
   "outputs": [
    {
     "data": {
      "text/plain": "[<tf.Variable 'kernel_b:0' shape=(2, 10) dtype=float32, numpy=\n array([[-0.509319  , -0.460681  , -0.639887  , -0.82438666, -0.4892532 ,\n         -0.33645502, -0.45039487, -0.8246372 , -0.6788101 , -0.71251917],\n        [-0.73419154, -0.53899384, -0.33681184, -0.6785925 , -0.5036967 ,\n         -0.68511355, -0.4893994 , -0.5542848 , -0.37214714, -0.5021543 ]],\n       dtype=float32)>]"
     },
     "execution_count": 7,
     "metadata": {},
     "output_type": "execute_result"
    }
   ],
   "source": [
    "from tensorflow.keras.layers import Layer\n",
    "\n",
    "class Test(Layer):\n",
    "    def build(self, input_shape):\n",
    "        self.kernel_b = self.add_weight(name='kernel_b',\n",
    "                                          shape=(input_shape[1], 10),\n",
    "                                          initializer=initializers.RandomNormal(mean=-0.5 if True else 0.,stddev=0.2),\n",
    "                                          trainable=True)\n",
    "test = Test()\n",
    "test.build(input_shape=(None,2))\n",
    "test.weights"
   ],
   "metadata": {
    "collapsed": false,
    "pycharm": {
     "name": "#%%\n"
    }
   }
  },
  {
   "cell_type": "code",
   "execution_count": 12,
   "outputs": [
    {
     "data": {
      "text/plain": "<tf.Tensor: shape=(3, 4, 2), dtype=float32, numpy=\narray([[[-0.5688395 ,  2.        ],\n        [-0.4232495 ,  2.        ],\n        [-0.51800925,  2.        ],\n        [-0.44812754,  2.        ]],\n\n       [[-0.38225392,  2.        ],\n        [-0.7201966 ,  2.        ],\n        [-0.3269279 ,  2.        ],\n        [-0.9576684 ,  2.        ]],\n\n       [[-0.61414176,  2.        ],\n        [-0.10395563,  2.        ],\n        [-0.864938  ,  2.        ],\n        [-0.703622  ,  2.        ]]], dtype=float32)>"
     },
     "execution_count": 12,
     "metadata": {},
     "output_type": "execute_result"
    }
   ],
   "source": [
    "init = [initializers.RandomNormal(mean=-0.5 if True else 0.,stddev=0.2), initializers.Constant(2.)]\n",
    "shape = (3,4)\n",
    "tf.stack([i(shape=shape) for i in init], axis=2)"
   ],
   "metadata": {
    "collapsed": false,
    "pycharm": {
     "name": "#%%\n"
    }
   }
  }
 ],
 "metadata": {
  "kernelspec": {
   "display_name": "Python 3",
   "language": "python",
   "name": "python3"
  },
  "language_info": {
   "codemirror_mode": {
    "name": "ipython",
    "version": 2
   },
   "file_extension": ".py",
   "mimetype": "text/x-python",
   "name": "python",
   "nbconvert_exporter": "python",
   "pygments_lexer": "ipython2",
   "version": "2.7.6"
  }
 },
 "nbformat": 4,
 "nbformat_minor": 0
}